{
  "nbformat": 4,
  "nbformat_minor": 0,
  "metadata": {
    "colab": {
      "provenance": []
    },
    "kernelspec": {
      "name": "python3",
      "display_name": "Python 3"
    },
    "language_info": {
      "name": "python"
    }
  },
  "cells": [
    {
      "cell_type": "code",
      "execution_count": 64,
      "metadata": {
        "id": "VjP_yEGn5aNI"
      },
      "outputs": [],
      "source": [
        "import torch\n",
        "import torch.nn.functional as F\n",
        "import random\n",
        "import matplotlib.pyplot as plt\n",
        "from progressbar import progressbar\n",
        "%matplotlib inline"
      ]
    },
    {
      "cell_type": "code",
      "source": [
        "# Importing data and defining helper Functions\n",
        "words = open('names.txt', 'r').read().splitlines()\n",
        "\n",
        "chars = sorted(list(set(list(''.join(words)))))\n",
        "stoi = {s:i+1 for i,s in enumerate(chars)}\n",
        "stoi['.'] = 0\n",
        "itos = {i:s for s,i in stoi.items()}"
      ],
      "metadata": {
        "id": "SuYvPkP85o-4"
      },
      "execution_count": 52,
      "outputs": []
    },
    {
      "cell_type": "markdown",
      "source": [
        "# Train-Dev-Test Split"
      ],
      "metadata": {
        "id": "JexBgPOa6Y15"
      }
    },
    {
      "cell_type": "code",
      "source": [
        "def build_dataset(words, block_size=3):\n",
        "    X,Y = [],[]\n",
        "    for w in words:\n",
        "        # print(w)\n",
        "        context = [0]*block_size\n",
        "        for ch in w+'.':\n",
        "            ix = stoi[ch]\n",
        "            X.append(context)\n",
        "            Y.append(ix)\n",
        "            # print(''.join(itos[i] for i in context), '---->', itos[ix])\n",
        "            context = context[1:] + [ix] # crop and append\n",
        "    X = torch.tensor(X)\n",
        "    Y = torch.tensor(Y)\n",
        "    print(X.shape, Y.shape)\n",
        "    return X,Y"
      ],
      "metadata": {
        "id": "l5daAcU_50j5"
      },
      "execution_count": 53,
      "outputs": []
    },
    {
      "cell_type": "code",
      "source": [
        "# random.seed(42)\n",
        "random.shuffle(words)\n",
        "n1 = int(0.8*len(words))\n",
        "n2 = int(0.9*len(words))"
      ],
      "metadata": {
        "id": "JUBqWwD-57uT"
      },
      "execution_count": 54,
      "outputs": []
    },
    {
      "cell_type": "markdown",
      "source": [
        "# Model"
      ],
      "metadata": {
        "id": "pXsDsluI6SB_"
      }
    },
    {
      "cell_type": "code",
      "source": [
        "# g = torch.Generator().manual_seed(2147483647)\n",
        "\n",
        "# PARAMETERS OF THE MODEL\n",
        "n = 10 # dimensionality of the embedding\n",
        "hyper_parameter = 200 # number of neurons in the hidden layer\n",
        "batch_size = 128 # batch size of the training data, (note to self: keep it in powers of 2)\n",
        "block_size = 5 # context length: how many chars are used to predict the next char\n",
        "\n",
        "\n",
        "# TRAIN VAL TEST DATA OF THE MODEL\n",
        "print(\"Training size: \")\n",
        "Xtr, Ytr = build_dataset(words[:n1], block_size)\n",
        "print(\"\\nValidation size: \")\n",
        "Xdev, Ydev = build_dataset(words[n1:n2], block_size)\n",
        "print(\"\\nTest size: \")\n",
        "Xte, Yte = build_dataset(words[n2:], block_size)\n",
        "\n",
        "\n",
        "# DEFINIG THE MODEL\n",
        "C = torch.randn((27,n), generator = g) # embedding each letter into a n dimensional vector\n",
        "emb = C[Xtr]\n",
        "\n",
        "print(\"\\nEmbedding shape: \", emb.shape)\n",
        "\n",
        "\n",
        "W1 = torch.randn((emb.shape[1]*emb.shape[2],hyper_parameter), generator=g) # n*block_size inputs, hyper_parameter neurons in the hidden layer\n",
        "b1 = torch.randn(hyper_parameter, generator=g)\n",
        "W2 = torch.randn((hyper_parameter, 27), generator=g) # hyper_parameter number of inputs, 27 possible predicted output char\n",
        "b2 = torch.randn(27, generator=g)\n",
        "\n",
        "\n",
        "parameters = [C, W1, b1, W2, b2]\n",
        "\n",
        "print(\"num parameters: \", sum(p.nelement() for p in parameters))\n",
        "for p in parameters:\n",
        "    p.requires_grad = True"
      ],
      "metadata": {
        "colab": {
          "base_uri": "https://localhost:8080/"
        },
        "id": "k6rfCILp6B3W",
        "outputId": "7541c786-9025-4796-df69-8c6f23f5a1b9"
      },
      "execution_count": 65,
      "outputs": [
        {
          "output_type": "stream",
          "name": "stdout",
          "text": [
            "Training size: \n",
            "torch.Size([182357, 5]) torch.Size([182357])\n",
            "\n",
            "Validation size: \n",
            "torch.Size([22884, 5]) torch.Size([22884])\n",
            "\n",
            "Test size: \n",
            "torch.Size([22905, 5]) torch.Size([22905])\n",
            "\n",
            "Embedding shape:  torch.Size([182357, 5, 10])\n",
            "num parameters:  15897\n"
          ]
        }
      ]
    },
    {
      "cell_type": "markdown",
      "source": [
        "# Training the model"
      ],
      "metadata": {
        "id": "dwXOlpbm7lHR"
      }
    },
    {
      "cell_type": "code",
      "source": [
        "# # uncomment to help in deciding learning rate\n",
        "# lre = torch.linspace(-3,0,1000)\n",
        "# lrs = 10**lre\n",
        "# lri = []\n",
        "\n",
        "lossi = []\n",
        "stepi = []"
      ],
      "metadata": {
        "id": "XqtSiaKm67rS"
      },
      "execution_count": 66,
      "outputs": []
    },
    {
      "cell_type": "code",
      "source": [
        "for i in progressbar(range(200000)):\n",
        "    # Construct 32 minibatches\n",
        "    ix = torch.randint(0, Xtr.shape[0], (batch_size,))\n",
        "\n",
        "    # Forward pass\n",
        "    emb = C[Xtr[ix]] # fetch 32 rows=> emb shape will be 32,3,2\n",
        "    h = torch.tanh(emb.view(-1,emb.shape[1]*emb.shape[2])@W1 + b1)\n",
        "    logits = h @ W2 + b2\n",
        "    loss = F.cross_entropy(logits, Ytr[ix])\n",
        "    # print(\"Loss at itr\", i, \"is: \",loss.item())\n",
        "    # backward pass\n",
        "    for p in parameters:\n",
        "        p.grad = None\n",
        "\n",
        "    # update grads\n",
        "    loss.backward()\n",
        "\n",
        "    # update parameters\n",
        "\n",
        "    # # uncomment to help in deciding lr\n",
        "    # lr = lrs[i]\n",
        "    # for p in parameters:\n",
        "    #     p.data += -lr * p.grad\n",
        "    # lri.append(lre[i])\n",
        "    # lossi.append(loss.item())\n",
        "\n",
        "    lr = 0.1 if i<100000 else 0.01\n",
        "    for p in parameters:\n",
        "        p.data += -lr * p.grad\n",
        "    lossi.append(loss.log10().item())\n",
        "    stepi.append(i)\n",
        "\n",
        "print(\"Final loss is: \", loss.item())\n",
        "# plt.title(\"Exponent of Learning rate VS loss\")\n",
        "# plt.plot(lri,lossi)"
      ],
      "metadata": {
        "colab": {
          "base_uri": "https://localhost:8080/"
        },
        "id": "DRZUbbZj7h26",
        "outputId": "073e8aa7-6000-449b-a198-2d248e173c44"
      },
      "execution_count": 67,
      "outputs": [
        {
          "output_type": "stream",
          "name": "stderr",
          "text": [
            "100% (200000 of 200000) |################| Elapsed Time: 0:03:33 Time:  0:03:33\n"
          ]
        },
        {
          "output_type": "stream",
          "name": "stdout",
          "text": [
            "Final loss is:  2.105623245239258\n"
          ]
        }
      ]
    },
    {
      "cell_type": "markdown",
      "source": [
        "# Plotting the steps and log losses"
      ],
      "metadata": {
        "id": "VtvulNoE8DAN"
      }
    },
    {
      "cell_type": "code",
      "source": [
        "plt.title(\"Steps VS log loss\")\n",
        "plt.plot(stepi,lossi)"
      ],
      "metadata": {
        "colab": {
          "base_uri": "https://localhost:8080/",
          "height": 470
        },
        "id": "5K8tOoFI8CIG",
        "outputId": "a4d5b44e-93cd-4803-f21c-dbbe08bd5c3b"
      },
      "execution_count": 59,
      "outputs": [
        {
          "output_type": "execute_result",
          "data": {
            "text/plain": [
              "[<matplotlib.lines.Line2D at 0x78b62dc60d60>]"
            ]
          },
          "metadata": {},
          "execution_count": 59
        },
        {
          "output_type": "display_data",
          "data": {
            "text/plain": [
              "<Figure size 640x480 with 1 Axes>"
            ],
            "image/png": "[encoded data removed]"
          },
          "metadata": {}
        }
      ]
    },
    {
      "cell_type": "markdown",
      "source": [
        "# Checking for Over/Under fitting using dev and train set"
      ],
      "metadata": {
        "id": "_tiw3ZFY72IH"
      }
    },
    {
      "cell_type": "code",
      "source": [
        "emb = C[Xtr]\n",
        "h = torch.tanh(emb.view(-1,emb.shape[1]*emb.shape[2])@W1 + b1)\n",
        "logits = h @ W2 + b2\n",
        "loss = F.cross_entropy(logits, Ytr)\n",
        "loss.item()"
      ],
      "metadata": {
        "colab": {
          "base_uri": "https://localhost:8080/"
        },
        "id": "Q0ylLN8W71wh",
        "outputId": "3e41001b-12f6-4fc5-b008-449c3ffe1643"
      },
      "execution_count": 60,
      "outputs": [
        {
          "output_type": "execute_result",
          "data": {
            "text/plain": [
              "2.1258223056793213"
            ]
          },
          "metadata": {},
          "execution_count": 60
        }
      ]
    },
    {
      "cell_type": "code",
      "source": [
        "emb = C[Xdev]\n",
        "h = torch.tanh(emb.view(-1,emb.shape[1]*emb.shape[2])@W1 + b1)\n",
        "logits = h @ W2 + b2\n",
        "loss = F.cross_entropy(logits, Ydev)\n",
        "loss.item()"
      ],
      "metadata": {
        "colab": {
          "base_uri": "https://localhost:8080/"
        },
        "id": "9EGCKFwK7-p5",
        "outputId": "8cacb1b2-0dbd-49a5-cc1d-dd95e096ee41"
      },
      "execution_count": 61,
      "outputs": [
        {
          "output_type": "execute_result",
          "data": {
            "text/plain": [
              "2.1699323654174805"
            ]
          },
          "metadata": {},
          "execution_count": 61
        }
      ]
    },
    {
      "cell_type": "markdown",
      "source": [
        "# Using the Test data to check the performance of the model"
      ],
      "metadata": {
        "id": "TzzmEKrg8Sd5"
      }
    },
    {
      "cell_type": "code",
      "source": [
        "emb = C[Xte]\n",
        "h = torch.tanh(emb.view(-1,emb.shape[1]*emb.shape[2])@W1 + b1)\n",
        "logits = h @ W2 + b2\n",
        "loss = F.cross_entropy(logits, Yte)\n",
        "loss.item()"
      ],
      "metadata": {
        "colab": {
          "base_uri": "https://localhost:8080/"
        },
        "id": "KwuGrkua8XLq",
        "outputId": "c6d3ba72-7f4d-44d4-98c9-bd2d7850a048"
      },
      "execution_count": 62,
      "outputs": [
        {
          "output_type": "execute_result",
          "data": {
            "text/plain": [
              "2.1619248390197754"
            ]
          },
          "metadata": {},
          "execution_count": 62
        }
      ]
    },
    {
      "cell_type": "markdown",
      "source": [
        "# Sampling from the model"
      ],
      "metadata": {
        "id": "hGZv2AUv94hn"
      }
    },
    {
      "cell_type": "code",
      "source": [
        "for _ in range(20):\n",
        "    out = []\n",
        "    context = [0]*block_size # init with all ...\n",
        "    while True:\n",
        "        emb = C[torch.tensor([context])]\n",
        "        h = torch.tanh(emb.view(1,-1) @ W1  + b1)\n",
        "        logits = h @ W2 + b2\n",
        "        probs = F.softmax(logits,dim=1)\n",
        "        ix = torch.multinomial(probs, num_samples=1, replacement=True).item()\n",
        "        context = context[1:] + [ix]\n",
        "        out.append(ix)\n",
        "        if ix == 0:\n",
        "            break\n",
        "\n",
        "    print(''.join(itos[ix] for ix in out))"
      ],
      "metadata": {
        "colab": {
          "base_uri": "https://localhost:8080/"
        },
        "id": "F-dtL6ZK96EB",
        "outputId": "d26d612e-7b87-4728-ee91-e56de7108223"
      },
      "execution_count": 70,
      "outputs": [
        {
          "output_type": "stream",
          "name": "stdout",
          "text": [
            "dasyn.\n",
            "lawar.\n",
            "domanaely.\n",
            "amisle.\n",
            "deodrah.\n",
            "mayet.\n",
            "juhalea.\n",
            "hanal.\n",
            "maijem.\n",
            "azav.\n",
            "lihe.\n",
            "jkaim.\n",
            "isaeri.\n",
            "meids.\n",
            "trista.\n",
            "avie.\n",
            "meitley.\n",
            "frethinnelynn.\n",
            "evree.\n",
            "broebyn.\n"
          ]
        }
      ]
    },
    {
      "cell_type": "code",
      "source": [],
      "metadata": {
        "id": "M9BHTlJw-I-G"
      },
      "execution_count": null,
      "outputs": []
    }
  ]
}